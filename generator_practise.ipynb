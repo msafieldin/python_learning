{
 "cells": [
  {
   "cell_type": "code",
   "execution_count": 22,
   "id": "0ff84481",
   "metadata": {},
   "outputs": [
    {
     "data": {
      "text/plain": [
       "<generator object generatorFunction at 0x10acbceb0>"
      ]
     },
     "execution_count": 22,
     "metadata": {},
     "output_type": "execute_result"
    }
   ],
   "source": [
    "varList = [12,34,67,89,0,1,2,3,4]\n",
    "\n",
    "def generatorFunction():\n",
    "    for x in varList:\n",
    "        yield x+2 #14,36,...6\n",
    "generatorFunction()"
   ]
  },
  {
   "cell_type": "code",
   "execution_count": 23,
   "id": "0e0c858d",
   "metadata": {},
   "outputs": [
    {
     "name": "stdout",
     "output_type": "stream",
     "text": [
      "<class 'generator'>\n"
     ]
    }
   ],
   "source": [
    "print(type(generatorFunction()))"
   ]
  },
  {
   "cell_type": "code",
   "execution_count": 24,
   "id": "1e41c936",
   "metadata": {},
   "outputs": [
    {
     "data": {
      "text/plain": [
       "14"
      ]
     },
     "execution_count": 24,
     "metadata": {},
     "output_type": "execute_result"
    }
   ],
   "source": [
    "next(generatorFunction())"
   ]
  },
  {
   "cell_type": "code",
   "execution_count": 25,
   "id": "d6b0e083",
   "metadata": {},
   "outputs": [
    {
     "data": {
      "text/plain": [
       "14"
      ]
     },
     "execution_count": 25,
     "metadata": {},
     "output_type": "execute_result"
    }
   ],
   "source": [
    "next(generatorFunction())"
   ]
  },
  {
   "cell_type": "code",
   "execution_count": 26,
   "id": "19adda29",
   "metadata": {},
   "outputs": [
    {
     "data": {
      "text/plain": [
       "14"
      ]
     },
     "execution_count": 26,
     "metadata": {},
     "output_type": "execute_result"
    }
   ],
   "source": [
    "next(generatorFunction())"
   ]
  },
  {
   "cell_type": "code",
   "execution_count": 27,
   "id": "77308ea9",
   "metadata": {},
   "outputs": [
    {
     "data": {
      "text/plain": [
       "14"
      ]
     },
     "execution_count": 27,
     "metadata": {},
     "output_type": "execute_result"
    }
   ],
   "source": [
    "next(generatorFunction())"
   ]
  },
  {
   "cell_type": "code",
   "execution_count": 28,
   "id": "70e3f7cd",
   "metadata": {},
   "outputs": [
    {
     "data": {
      "text/plain": [
       "[14, 36, 69, 91, 2, 3, 4, 5, 6]"
      ]
     },
     "execution_count": 28,
     "metadata": {},
     "output_type": "execute_result"
    }
   ],
   "source": [
    "next(generatorFunction())\n",
    "next(generatorFunction())\n",
    "list(generatorFunction())"
   ]
  },
  {
   "cell_type": "code",
   "execution_count": 29,
   "id": "32d6f574",
   "metadata": {},
   "outputs": [
    {
     "name": "stdout",
     "output_type": "stream",
     "text": [
      "\n",
      "\n",
      "Yield TEST\n"
     ]
    }
   ],
   "source": [
    "print(\"\\n\\nYield TEST\")\n",
    "def yieldtest():\n",
    "    yield \"python\"\n",
    "    yield 20\n",
    "    yield 35.69\n",
    "    yield [\"cat\",\"mat\"]\n",
    "    yield (\"sat\",\"rat\",\"hat\")"
   ]
  },
  {
   "cell_type": "code",
   "execution_count": 30,
   "id": "fc8314cc",
   "metadata": {},
   "outputs": [
    {
     "name": "stdout",
     "output_type": "stream",
     "text": [
      "<class 'function'>\n"
     ]
    }
   ],
   "source": [
    "print(type(yieldtest))"
   ]
  },
  {
   "cell_type": "code",
   "execution_count": 32,
   "id": "d37b3f83",
   "metadata": {},
   "outputs": [
    {
     "name": "stdout",
     "output_type": "stream",
     "text": [
      "<class 'generator'>\n"
     ]
    }
   ],
   "source": [
    "print(type(yieldtest()))"
   ]
  },
  {
   "cell_type": "code",
   "execution_count": 33,
   "id": "e8ddd950",
   "metadata": {},
   "outputs": [],
   "source": [
    "check = yieldtest()"
   ]
  },
  {
   "cell_type": "code",
   "execution_count": 34,
   "id": "8dd77cd9",
   "metadata": {},
   "outputs": [
    {
     "name": "stdout",
     "output_type": "stream",
     "text": [
      "check : <generator object yieldtest at 0x10acbc890>\n"
     ]
    }
   ],
   "source": [
    "print(\"check :\" ,check)"
   ]
  },
  {
   "cell_type": "code",
   "execution_count": 35,
   "id": "c25e970e",
   "metadata": {},
   "outputs": [
    {
     "name": "stdout",
     "output_type": "stream",
     "text": [
      "check-a1 : ['python', 20, 35.69, ['cat', 'mat'], ('sat', 'rat', 'hat')]\n"
     ]
    }
   ],
   "source": [
    "print(\"check-a1 :\" ,list(check))"
   ]
  },
  {
   "cell_type": "code",
   "execution_count": 36,
   "id": "4ebcf966",
   "metadata": {},
   "outputs": [
    {
     "name": "stdout",
     "output_type": "stream",
     "text": [
      "python\n",
      "20\n",
      "35.69\n",
      "['cat', 'mat']\n",
      "('sat', 'rat', 'hat')\n"
     ]
    }
   ],
   "source": [
    "for i in yieldtest():\n",
    "    print(i)"
   ]
  },
  {
   "cell_type": "code",
   "execution_count": 37,
   "id": "8a16d13a",
   "metadata": {},
   "outputs": [],
   "source": [
    "check = yieldtest()"
   ]
  },
  {
   "cell_type": "code",
   "execution_count": 38,
   "id": "ac8ae1b2",
   "metadata": {},
   "outputs": [
    {
     "name": "stdout",
     "output_type": "stream",
     "text": [
      "python\n",
      "20\n",
      "35.69\n",
      "['cat', 'mat']\n",
      "('sat', 'rat', 'hat')\n"
     ]
    }
   ],
   "source": [
    "for i in yieldtest():\n",
    "    print(i)"
   ]
  },
  {
   "cell_type": "code",
   "execution_count": 39,
   "id": "e8058709",
   "metadata": {},
   "outputs": [
    {
     "name": "stdout",
     "output_type": "stream",
     "text": [
      "python\n",
      "20\n",
      "35.69\n",
      "['cat', 'mat']\n",
      "('sat', 'rat', 'hat')\n"
     ]
    }
   ],
   "source": [
    "for i in yieldtest():\n",
    "    print(i)"
   ]
  },
  {
   "cell_type": "code",
   "execution_count": 40,
   "id": "2a3d9f8e",
   "metadata": {},
   "outputs": [],
   "source": [
    "check = yieldtest()\n"
   ]
  },
  {
   "cell_type": "code",
   "execution_count": 41,
   "id": "a22eee4c",
   "metadata": {},
   "outputs": [
    {
     "name": "stdout",
     "output_type": "stream",
     "text": [
      "python\n",
      "20\n",
      "35.69\n",
      "['cat', 'mat']\n",
      "('sat', 'rat', 'hat')\n"
     ]
    }
   ],
   "source": [
    "for i in check :\n",
    "    print(i)"
   ]
  },
  {
   "cell_type": "code",
   "execution_count": 42,
   "id": "8ac02674",
   "metadata": {},
   "outputs": [
    {
     "data": {
      "text/plain": [
       "[]"
      ]
     },
     "execution_count": 42,
     "metadata": {},
     "output_type": "execute_result"
    }
   ],
   "source": [
    "list(check)"
   ]
  },
  {
   "cell_type": "code",
   "execution_count": null,
   "id": "c38345b7",
   "metadata": {},
   "outputs": [],
   "source": []
  }
 ],
 "metadata": {
  "kernelspec": {
   "display_name": "Python 3 (ipykernel)",
   "language": "python",
   "name": "python3"
  },
  "language_info": {
   "codemirror_mode": {
    "name": "ipython",
    "version": 3
   },
   "file_extension": ".py",
   "mimetype": "text/x-python",
   "name": "python",
   "nbconvert_exporter": "python",
   "pygments_lexer": "ipython3",
   "version": "3.9.6"
  }
 },
 "nbformat": 4,
 "nbformat_minor": 5
}
