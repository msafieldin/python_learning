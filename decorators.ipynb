{
 "cells": [
  {
   "cell_type": "code",
   "execution_count": 4,
   "id": "4b2e879d",
   "metadata": {},
   "outputs": [
    {
     "name": "stdout",
     "output_type": "stream",
     "text": [
      "I got args! Look : mohamed safieldin\n",
      "My name is mohamed safieldin\n"
     ]
    }
   ],
   "source": [
    "### studying decorators \n",
    "\n",
    "## best thing about decorator example \n",
    "\n",
    "def a_decorator_passing_arguments(function_to_decorate):\n",
    "    def a_wrapper_accepting_arguments(arg1, arg2):\n",
    "        print(\"I got args! Look :\", arg1, arg2)\n",
    "        function_to_decorate(arg1, arg2)\n",
    "    return a_wrapper_accepting_arguments\n",
    "\n",
    "@a_decorator_passing_arguments\n",
    "def print_full_name(first_name, last_name):\n",
    "    print(\"My name is\", first_name, last_name)\n",
    "\n",
    "print_full_name(\"mohamed\",\"safieldin\")"
   ]
  },
  {
   "cell_type": "code",
   "execution_count": 10,
   "id": "c228831c",
   "metadata": {},
   "outputs": [],
   "source": [
    "def our_decorator(func):\n",
    "    def inner(x):\n",
    "        print(f\"before calling {func.__name__}\")\n",
    "        y = func(x)\n",
    "        \n",
    "        if isinstance(y,int ):\n",
    "            print(f\"{y} is integer\")\n",
    "            \n",
    "        elif isinstance(y, str):\n",
    "            print(f\"{y} is string\")\n",
    "            \n",
    "        elif isinstance(y, float):\n",
    "            print(f\"{y} is float\")\n",
    "            \n",
    "        elif y is None:\n",
    "            print(\"None paramter\")\n",
    "             \n",
    "        print(\"After calling \" + func.__name__)\n",
    "\n",
    "    return inner\n",
    "\n",
    "def foo(x):\n",
    "    print(f\"Hi guys we're inside foo with parameter {x}\")"
   ]
  },
  {
   "cell_type": "code",
   "execution_count": 11,
   "id": "cccdb94c",
   "metadata": {},
   "outputs": [
    {
     "name": "stdout",
     "output_type": "stream",
     "text": [
      "Hi guys we're inside foo with parameter 5\n"
     ]
    }
   ],
   "source": [
    "foo(5)"
   ]
  },
  {
   "cell_type": "code",
   "execution_count": 12,
   "id": "4da618ea",
   "metadata": {},
   "outputs": [],
   "source": [
    "@our_decorator\n",
    "def foo(x):\n",
    "    print(f\"Hi guys we're inside foo with parameter {x}\")"
   ]
  },
  {
   "cell_type": "code",
   "execution_count": 13,
   "id": "72b31123",
   "metadata": {},
   "outputs": [
    {
     "name": "stdout",
     "output_type": "stream",
     "text": [
      "before calling foo\n",
      "Hi guys we're inside foo with parameter mohamed\n",
      "None paramter\n",
      "After calling foo\n"
     ]
    }
   ],
   "source": [
    "foo(\"mohamed\")"
   ]
  },
  {
   "cell_type": "code",
   "execution_count": 19,
   "id": "cf76b577",
   "metadata": {},
   "outputs": [],
   "source": [
    "def smart_divide_decorator(func):\n",
    "    def inner(*args):\n",
    "        print(f\"args {args}\")\n",
    "        if 0 in args:\n",
    "            print(\"avoiding divide as there's Zero in the parameters\")\n",
    "            return\n",
    "        return func(*args)\n",
    "    return inner\n",
    "\n",
    "@smart_divide_decorator\n",
    "def divide(a,b):\n",
    "    return a/b"
   ]
  },
  {
   "cell_type": "code",
   "execution_count": 23,
   "id": "a4ceab17",
   "metadata": {},
   "outputs": [
    {
     "name": "stdout",
     "output_type": "stream",
     "text": [
      "args (5, 0)\n",
      "avoiding divide as there's Zero in the parameters\n"
     ]
    }
   ],
   "source": [
    "divide(5,0)"
   ]
  },
  {
   "cell_type": "code",
   "execution_count": null,
   "id": "5d52ae3a",
   "metadata": {},
   "outputs": [],
   "source": []
  }
 ],
 "metadata": {
  "kernelspec": {
   "display_name": "Python 3 (ipykernel)",
   "language": "python",
   "name": "python3"
  },
  "language_info": {
   "codemirror_mode": {
    "name": "ipython",
    "version": 3
   },
   "file_extension": ".py",
   "mimetype": "text/x-python",
   "name": "python",
   "nbconvert_exporter": "python",
   "pygments_lexer": "ipython3",
   "version": "3.9.6"
  }
 },
 "nbformat": 4,
 "nbformat_minor": 5
}
